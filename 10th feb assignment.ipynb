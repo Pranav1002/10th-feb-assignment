{
 "cells": [
  {
   "cell_type": "code",
   "execution_count": 1,
   "id": "63eaaf13-d473-457e-a4d3-ebfc7422d784",
   "metadata": {},
   "outputs": [
    {
     "data": {
      "text/plain": [
       "\"\\n---> open() method is used to open file in python.\\n---> Modes of opening file.\\n     (i)   'r' - Read Only Mode\\n     (ii)  'w' - Write Only Mode\\n     (iii) 'a' - Append Mode\\n     (iv)  'r+' - Both Read and Write mode\\n     (v)   'w+' - Both Read and Write mode\\n     (vi)  'a+' - Both Read and Write mode  \\n\""
      ]
     },
     "execution_count": 1,
     "metadata": {},
     "output_type": "execute_result"
    }
   ],
   "source": [
    "#1) Which function is used to open a file? What are the different modes of opening a file? Explain each mode of file opening.\n",
    "'''\n",
    "---> open() method is used to open file in python.\n",
    "---> Modes of opening file.\n",
    "     (i)   'r' - Read Only Mode\n",
    "     (ii)  'w' - Write Only Mode\n",
    "     (iii) 'a' - Append Mode\n",
    "     (iv)  'r+' - Both Read and Write mode\n",
    "     (v)   'w+' - Both Read and Write mode\n",
    "     (vi)  'a+' - Both Read and Write mode  \n",
    "'''"
   ]
  },
  {
   "cell_type": "code",
   "execution_count": 2,
   "id": "bed6a39b-a851-4cf1-a50c-aa5517764f0b",
   "metadata": {},
   "outputs": [
    {
     "data": {
      "text/plain": [
       "'\\n---> close() function closes the opened file.\\n---> Files should be closed becuse in some cases, due to buffering, changes made to a file may not show until you close the file.\\n'"
      ]
     },
     "execution_count": 2,
     "metadata": {},
     "output_type": "execute_result"
    }
   ],
   "source": [
    "#2) Why close() function is used? Why is it important to close a file?\n",
    "'''\n",
    "---> close() function closes the opened file.\n",
    "---> Files should be closed becuse in some cases, due to buffering, changes made to a file may not show until you close the file.\n",
    "'''"
   ]
  },
  {
   "cell_type": "code",
   "execution_count": 4,
   "id": "f6af384c-5d19-4e6b-9686-58a468c41c46",
   "metadata": {},
   "outputs": [
    {
     "name": "stdout",
     "output_type": "stream",
     "text": [
      "I want to become a Data Scientist\n"
     ]
    }
   ],
   "source": [
    "#3) Write a python program to create a text file. Write ‘I want to become a Data Scientist’ in that file. Then close the file. Open this file and read the content of the file.\n",
    "\n",
    "f = open('test.txt','w')\n",
    "f.write('I want to become a Data Scientist')\n",
    "f.close()\n",
    "\n",
    "f = open('test.txt','r')\n",
    "print(f.read())"
   ]
  },
  {
   "cell_type": "code",
   "execution_count": 6,
   "id": "b50cf5c9-5ae5-4605-93d7-6c27fd4c0740",
   "metadata": {},
   "outputs": [
    {
     "data": {
      "text/plain": [
       "'\\nread() : It is used to read data from the file.\\nreadline() : It is used to read the data line by line from the file.\\nreadlines() : The readlines() method returns a list containing each line in the file as a list item.\\n'"
      ]
     },
     "execution_count": 6,
     "metadata": {},
     "output_type": "execute_result"
    }
   ],
   "source": [
    "#4) Explain the following with python code: read(), readline() and readlines().\n",
    "'''\n",
    "read() : It is used to read data from the file.\n",
    "readline() : It is used to read the data line by line from the file.\n",
    "readlines() : The readlines() method returns a list containing each line in the file as a list item.\n",
    "'''"
   ]
  },
  {
   "cell_type": "code",
   "execution_count": 7,
   "id": "731c743f-d7d8-47ff-9e26-1a0656e43061",
   "metadata": {},
   "outputs": [
    {
     "data": {
      "text/plain": [
       "'\\nThe with statement closes the file for user without you telling it to user.\\n'"
      ]
     },
     "execution_count": 7,
     "metadata": {},
     "output_type": "execute_result"
    }
   ],
   "source": [
    "#5) Explain why with statement is used with open(). What is the advantage of using with statement and open() together?\n",
    "'''\n",
    "The with statement closes the file for user without you telling it to user.\n",
    "'''"
   ]
  },
  {
   "cell_type": "code",
   "execution_count": null,
   "id": "6d7023cf-65f8-49e1-872a-d40101ed5428",
   "metadata": {},
   "outputs": [],
   "source": [
    "#6) Explain the write() and writelines() functions. Give a suitable example.\n",
    "'''\n",
    "---> write() method takes a string as an argument and writes it to the text file.\n",
    "---> writelines() method is used to write multiple strings to a file. We need to pass an iterable object like lists, tuple etc. "
   ]
  }
 ],
 "metadata": {
  "kernelspec": {
   "display_name": "Python 3 (ipykernel)",
   "language": "python",
   "name": "python3"
  },
  "language_info": {
   "codemirror_mode": {
    "name": "ipython",
    "version": 3
   },
   "file_extension": ".py",
   "mimetype": "text/x-python",
   "name": "python",
   "nbconvert_exporter": "python",
   "pygments_lexer": "ipython3",
   "version": "3.10.6"
  }
 },
 "nbformat": 4,
 "nbformat_minor": 5
}
